{
  "nbformat": 4,
  "nbformat_minor": 0,
  "metadata": {
    "colab": {
      "provenance": [],
      "authorship_tag": "ABX9TyNUJFpxG1Dy1YTCxhsYZdiQ",
      "include_colab_link": true
    },
    "kernelspec": {
      "name": "python3",
      "display_name": "Python 3"
    },
    "language_info": {
      "name": "python"
    }
  },
  "cells": [
    {
      "cell_type": "markdown",
      "metadata": {
        "id": "view-in-github",
        "colab_type": "text"
      },
      "source": [
        "<a href=\"https://colab.research.google.com/github/Tina21csu476/RL/blob/main/rl_exp_9.ipynb\" target=\"_parent\"><img src=\"https://colab.research.google.com/assets/colab-badge.svg\" alt=\"Open In Colab\"/></a>"
      ]
    },
    {
      "cell_type": "code",
      "execution_count": null,
      "metadata": {
        "id": "uLG8dpdvEchM"
      },
      "outputs": [],
      "source": [
        "import random\n",
        "import matplotlib.pyplot as plt\n",
        "\n",
        "def estimate_pi(num_samples):\n",
        "    inside_circle = 0\n",
        "\n",
        "    for _ in range(num_samples):\n",
        "        x = random.uniform(0, 1)\n",
        "        y = random.uniform(0, 1)\n",
        "\n",
        "        distance = x**2 + y**2\n",
        "\n",
        "        if distance <= 1:\n",
        "            inside_circle += 1\n",
        "\n",
        "    return (inside_circle / num_samples) * 4\n",
        "\n",
        "def plot_points_in_circle(num_samples):\n",
        "    inside_x = []\n",
        "    inside_y = []\n",
        "    outside_x = []\n",
        "    outside_y = []\n",
        "\n",
        "    for _ in range(num_samples):\n",
        "        x = random.uniform(0, 1)\n",
        "        y = random.uniform(0, 1)\n",
        "\n",
        "        distance = x**2 + y**2\n",
        "\n",
        "        if distance <= 1:\n",
        "            inside_x.append(x)\n",
        "            inside_y.append(y)\n",
        "        else:\n",
        "            outside_x.append(x)\n",
        "            outside_y.append(y)\n",
        "\n",
        "    plt.scatter(inside_x, inside_y, color='blue', marker='.')\n",
        "    plt.scatter(outside_x, outside_y, color='red', marker='.')\n",
        "    plt.show()\n",
        "num_samples = 100000\n",
        "estimated_pi = estimate_pi(num_samples)\n",
        "print(f\"Estimated value of pi using {num_samples} samples: {estimated_pi}\")\n"
      ]
    }
  ]
}